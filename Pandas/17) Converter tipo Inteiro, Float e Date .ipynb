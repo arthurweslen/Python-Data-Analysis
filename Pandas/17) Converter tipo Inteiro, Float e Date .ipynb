{
 "cells": [
  {
   "cell_type": "markdown",
   "metadata": {},
   "source": [
    "<h1>Converter tipo (int, float, date e str)  </h1>\n",
    "<br>\n",
    "<i>\n",
    "• Importar biblioteca pandas <br>\n",
    "• Importar um arquivo Excel<br>\n",
    "• Converter a coluna <b> ID</b> para <b> Int</b> <br>\n",
    "• Converter a coluna <b> Porcentagem</b> para <b> Float</b> <br>\n",
    "• Converter a coluna <b> Data</b> para <b> Date</b> <br>\n",
    "• Criar Coluna Ano, Mês e Dia<br>\n",
    "    \n",
    "</i>"
   ]
  },
  {
   "cell_type": "code",
   "execution_count": 11,
   "metadata": {},
   "outputs": [
    {
     "data": {
      "text/html": [
       "<div>\n",
       "<style scoped>\n",
       "    .dataframe tbody tr th:only-of-type {\n",
       "        vertical-align: middle;\n",
       "    }\n",
       "\n",
       "    .dataframe tbody tr th {\n",
       "        vertical-align: top;\n",
       "    }\n",
       "\n",
       "    .dataframe thead th {\n",
       "        text-align: right;\n",
       "    }\n",
       "</style>\n",
       "<table border=\"1\" class=\"dataframe\">\n",
       "  <thead>\n",
       "    <tr style=\"text-align: right;\">\n",
       "      <th></th>\n",
       "      <th>ID</th>\n",
       "      <th>Porcentagem</th>\n",
       "      <th>Data</th>\n",
       "    </tr>\n",
       "  </thead>\n",
       "  <tbody>\n",
       "    <tr>\n",
       "      <th>0</th>\n",
       "      <td>i-01</td>\n",
       "      <td>1</td>\n",
       "      <td>D01/01/2020</td>\n",
       "    </tr>\n",
       "    <tr>\n",
       "      <th>1</th>\n",
       "      <td>i-02</td>\n",
       "      <td>0.3</td>\n",
       "      <td>D03/04/2020</td>\n",
       "    </tr>\n",
       "    <tr>\n",
       "      <th>2</th>\n",
       "      <td>i-03</td>\n",
       "      <td>0.4</td>\n",
       "      <td>D04/05/2020</td>\n",
       "    </tr>\n",
       "    <tr>\n",
       "      <th>3</th>\n",
       "      <td>i-04</td>\n",
       "      <td>1</td>\n",
       "      <td>D02/07/2020</td>\n",
       "    </tr>\n",
       "  </tbody>\n",
       "</table>\n",
       "</div>"
      ],
      "text/plain": [
       "     ID Porcentagem         Data\n",
       "0  i-01           1  D01/01/2020\n",
       "1  i-02         0.3  D03/04/2020\n",
       "2  i-03         0.4  D04/05/2020\n",
       "3  i-04           1  D02/07/2020"
      ]
     },
     "metadata": {},
     "output_type": "display_data"
    },
    {
     "name": "stdout",
     "output_type": "stream",
     "text": [
      "Linhas e Colunas\n"
     ]
    },
    {
     "data": {
      "text/plain": [
       "(11, 3)"
      ]
     },
     "execution_count": 11,
     "metadata": {},
     "output_type": "execute_result"
    }
   ],
   "source": [
    "import pandas as pd\n",
    "dataset = pd.read_excel('converter.xlsx', sheet_name='Data')\n",
    "\n",
    "display(dataset.head(4))\n",
    "\n",
    "print('Linhas e Colunas')\n",
    "dataset.shape"
   ]
  },
  {
   "cell_type": "code",
   "execution_count": 12,
   "metadata": {},
   "outputs": [
    {
     "data": {
      "text/plain": [
       "ID             object\n",
       "Porcentagem    object\n",
       "Data           object\n",
       "dtype: object"
      ]
     },
     "execution_count": 12,
     "metadata": {},
     "output_type": "execute_result"
    }
   ],
   "source": [
    "dataset.dtypes"
   ]
  },
  {
   "cell_type": "markdown",
   "metadata": {},
   "source": [
    "<h3> Converter o ID em inteiro </h3>\n",
    "<br>\n",
    "<i>\n",
    "• Primeiro remover todos caracteres da coluna ID<br>\n",
    "    \n",
    "</i>\n"
   ]
  },
  {
   "cell_type": "code",
   "execution_count": 13,
   "metadata": {},
   "outputs": [
    {
     "data": {
      "text/plain": [
       "ID              int64\n",
       "Porcentagem    object\n",
       "Data           object\n",
       "dtype: object"
      ]
     },
     "execution_count": 13,
     "metadata": {},
     "output_type": "execute_result"
    }
   ],
   "source": [
    "#Substituir i- da coluna ID\n",
    "dataset = dataset.replace('i-','', regex=True)\n",
    "\n",
    "#Converter ID em int\n",
    "dataset['ID'] = dataset['ID'].astype('int64')\n",
    "\n",
    "#verificar se ID foi convertido\n",
    "dataset.dtypes\n"
   ]
  },
  {
   "cell_type": "markdown",
   "metadata": {},
   "source": [
    "<h3> Converter Porcentagem em Float </h3>\n",
    "<br>\n",
    "<i>\n",
    "• Encontrar o que tem de errado na coluna Porcentagem <br>\n",
    "• Segundo remover todos caracteres da coluna Porcentagem<br>\n",
    "    \n",
    "</i>\n",
    "\n"
   ]
  },
  {
   "cell_type": "code",
   "execution_count": 14,
   "metadata": {},
   "outputs": [
    {
     "data": {
      "text/plain": [
       "1       2\n",
       "#       1\n",
       "0.1     1\n",
       "0.8     1\n",
       "0.99    1\n",
       "0.44    1\n",
       "0.12    1\n",
       "0.2     1\n",
       "0.4     1\n",
       "0.3     1\n",
       "Name: Porcentagem, dtype: int64"
      ]
     },
     "execution_count": 14,
     "metadata": {},
     "output_type": "execute_result"
    }
   ],
   "source": [
    "# Verificado que existe uma string na coluna: '#'\n",
    "\n",
    "dataset['Porcentagem'].value_counts()"
   ]
  },
  {
   "cell_type": "code",
   "execution_count": 15,
   "metadata": {},
   "outputs": [
    {
     "data": {
      "text/plain": [
       "ID               int64\n",
       "Porcentagem    float64\n",
       "Data            object\n",
       "dtype: object"
      ]
     },
     "execution_count": 15,
     "metadata": {},
     "output_type": "execute_result"
    }
   ],
   "source": [
    "#Substituir #  da coluna Porcentagem por 0\n",
    "dataset = dataset.replace('#',0, regex=True)\n",
    "\n",
    "#Converter Porcentagem em float\n",
    "dataset['Porcentagem'] = dataset['Porcentagem'].astype('float64')\n",
    "\n",
    "#verificar se Porcentagem foi convertido\n",
    "dataset.dtypes\n",
    "\n"
   ]
  },
  {
   "cell_type": "markdown",
   "metadata": {},
   "source": [
    "<h3> Converter o Data em date </h3>\n",
    "<br>\n",
    "<i>\n",
    "• Primeiro remover todos caracteres da coluna Data<br>\n",
    "    \n",
    "</i>\n"
   ]
  },
  {
   "cell_type": "code",
   "execution_count": 16,
   "metadata": {},
   "outputs": [
    {
     "data": {
      "text/plain": [
       "ID                      int64\n",
       "Porcentagem           float64\n",
       "Data           datetime64[ns]\n",
       "dtype: object"
      ]
     },
     "execution_count": 16,
     "metadata": {},
     "output_type": "execute_result"
    }
   ],
   "source": [
    "#Substituir D na coluna Data\n",
    "dataset['Data'] = dataset['Data'].replace('D','', regex=True)\n",
    "\n",
    "#Converter Data em date\n",
    "dataset['Data'] = pd.to_datetime(dataset['Data'])\n",
    "\n",
    "#verificar se Data foi convertido\n",
    "dataset.dtypes\n"
   ]
  },
  {
   "cell_type": "markdown",
   "metadata": {},
   "source": [
    "<h3> Criar Coluna Ano, Mês e Dia </h3>"
   ]
  },
  {
   "cell_type": "code",
   "execution_count": 18,
   "metadata": {},
   "outputs": [
    {
     "data": {
      "text/html": [
       "<div>\n",
       "<style scoped>\n",
       "    .dataframe tbody tr th:only-of-type {\n",
       "        vertical-align: middle;\n",
       "    }\n",
       "\n",
       "    .dataframe tbody tr th {\n",
       "        vertical-align: top;\n",
       "    }\n",
       "\n",
       "    .dataframe thead th {\n",
       "        text-align: right;\n",
       "    }\n",
       "</style>\n",
       "<table border=\"1\" class=\"dataframe\">\n",
       "  <thead>\n",
       "    <tr style=\"text-align: right;\">\n",
       "      <th></th>\n",
       "      <th>ID</th>\n",
       "      <th>Porcentagem</th>\n",
       "      <th>Data</th>\n",
       "      <th>Ano</th>\n",
       "      <th>Mês</th>\n",
       "      <th>Dia</th>\n",
       "      <th>Mes/Ano</th>\n",
       "    </tr>\n",
       "  </thead>\n",
       "  <tbody>\n",
       "    <tr>\n",
       "      <th>0</th>\n",
       "      <td>1</td>\n",
       "      <td>1.00</td>\n",
       "      <td>2020-01-01</td>\n",
       "      <td>2020</td>\n",
       "      <td>01</td>\n",
       "      <td>01</td>\n",
       "      <td>01/2020</td>\n",
       "    </tr>\n",
       "    <tr>\n",
       "      <th>1</th>\n",
       "      <td>2</td>\n",
       "      <td>0.30</td>\n",
       "      <td>2020-03-04</td>\n",
       "      <td>2020</td>\n",
       "      <td>03</td>\n",
       "      <td>04</td>\n",
       "      <td>03/2020</td>\n",
       "    </tr>\n",
       "    <tr>\n",
       "      <th>2</th>\n",
       "      <td>3</td>\n",
       "      <td>0.40</td>\n",
       "      <td>2020-04-05</td>\n",
       "      <td>2020</td>\n",
       "      <td>04</td>\n",
       "      <td>05</td>\n",
       "      <td>04/2020</td>\n",
       "    </tr>\n",
       "    <tr>\n",
       "      <th>3</th>\n",
       "      <td>4</td>\n",
       "      <td>1.00</td>\n",
       "      <td>2020-02-07</td>\n",
       "      <td>2020</td>\n",
       "      <td>02</td>\n",
       "      <td>07</td>\n",
       "      <td>02/2020</td>\n",
       "    </tr>\n",
       "    <tr>\n",
       "      <th>4</th>\n",
       "      <td>5</td>\n",
       "      <td>0.20</td>\n",
       "      <td>2020-11-11</td>\n",
       "      <td>2020</td>\n",
       "      <td>11</td>\n",
       "      <td>11</td>\n",
       "      <td>11/2020</td>\n",
       "    </tr>\n",
       "    <tr>\n",
       "      <th>5</th>\n",
       "      <td>6</td>\n",
       "      <td>0.10</td>\n",
       "      <td>2021-02-07</td>\n",
       "      <td>2021</td>\n",
       "      <td>02</td>\n",
       "      <td>07</td>\n",
       "      <td>02/2021</td>\n",
       "    </tr>\n",
       "    <tr>\n",
       "      <th>6</th>\n",
       "      <td>7</td>\n",
       "      <td>0.12</td>\n",
       "      <td>2021-11-11</td>\n",
       "      <td>2021</td>\n",
       "      <td>11</td>\n",
       "      <td>11</td>\n",
       "      <td>11/2021</td>\n",
       "    </tr>\n",
       "    <tr>\n",
       "      <th>7</th>\n",
       "      <td>8</td>\n",
       "      <td>0.44</td>\n",
       "      <td>2022-02-02</td>\n",
       "      <td>2022</td>\n",
       "      <td>02</td>\n",
       "      <td>02</td>\n",
       "      <td>02/2022</td>\n",
       "    </tr>\n",
       "    <tr>\n",
       "      <th>8</th>\n",
       "      <td>9</td>\n",
       "      <td>0.99</td>\n",
       "      <td>2022-10-13</td>\n",
       "      <td>2022</td>\n",
       "      <td>10</td>\n",
       "      <td>13</td>\n",
       "      <td>10/2022</td>\n",
       "    </tr>\n",
       "    <tr>\n",
       "      <th>9</th>\n",
       "      <td>10</td>\n",
       "      <td>0.80</td>\n",
       "      <td>2023-10-10</td>\n",
       "      <td>2023</td>\n",
       "      <td>10</td>\n",
       "      <td>10</td>\n",
       "      <td>10/2023</td>\n",
       "    </tr>\n",
       "    <tr>\n",
       "      <th>10</th>\n",
       "      <td>11</td>\n",
       "      <td>0.00</td>\n",
       "      <td>2023-11-03</td>\n",
       "      <td>2023</td>\n",
       "      <td>11</td>\n",
       "      <td>03</td>\n",
       "      <td>11/2023</td>\n",
       "    </tr>\n",
       "  </tbody>\n",
       "</table>\n",
       "</div>"
      ],
      "text/plain": [
       "    ID  Porcentagem       Data   Ano Mês Dia  Mes/Ano\n",
       "0    1         1.00 2020-01-01  2020  01  01  01/2020\n",
       "1    2         0.30 2020-03-04  2020  03  04  03/2020\n",
       "2    3         0.40 2020-04-05  2020  04  05  04/2020\n",
       "3    4         1.00 2020-02-07  2020  02  07  02/2020\n",
       "4    5         0.20 2020-11-11  2020  11  11  11/2020\n",
       "5    6         0.10 2021-02-07  2021  02  07  02/2021\n",
       "6    7         0.12 2021-11-11  2021  11  11  11/2021\n",
       "7    8         0.44 2022-02-02  2022  02  02  02/2022\n",
       "8    9         0.99 2022-10-13  2022  10  13  10/2022\n",
       "9   10         0.80 2023-10-10  2023  10  10  10/2023\n",
       "10  11         0.00 2023-11-03  2023  11  03  11/2023"
      ]
     },
     "execution_count": 18,
     "metadata": {},
     "output_type": "execute_result"
    }
   ],
   "source": [
    "#Coluna ANO\n",
    "dataset['Ano'] = pd.to_datetime(dataset['Data']).dt.strftime('%Y')\n",
    "\n",
    "#Coluna Mês\n",
    "dataset['Mês'] = pd.to_datetime(dataset['Data']).dt.strftime('%m')\n",
    "\n",
    "#Coluna Mês\n",
    "dataset['Dia'] = pd.to_datetime(dataset['Data']).dt.strftime('%d')\n",
    "\n",
    "#Coluna Mês/Ano\n",
    "dataset['Mes/Ano'] = pd.to_datetime(dataset['Data']).dt.strftime('%m/%Y')\n",
    "\n",
    "\n",
    "dataset"
   ]
  },
  {
   "cell_type": "code",
   "execution_count": 24,
   "metadata": {},
   "outputs": [
    {
     "data": {
      "text/plain": [
       "ID                      int64\n",
       "Porcentagem           float64\n",
       "Data           datetime64[ns]\n",
       "Ano            datetime64[ns]\n",
       "Mês                     int64\n",
       "Dia                     int64\n",
       "Mes/Ano        datetime64[ns]\n",
       "dtype: object"
      ]
     },
     "execution_count": 24,
     "metadata": {},
     "output_type": "execute_result"
    }
   ],
   "source": [
    "dataset['Ano'] = pd.to_datetime(dataset['Ano'])\n",
    "dataset['Mês'] = dataset['Mês'].astype('int64')\n",
    "dataset['Dia'] = dataset['Mês'].astype('int64')\n",
    "dataset['Mes/Ano'] = pd.to_datetime(dataset['Mes/Ano'])\n",
    "\n",
    "dataset.dtypes"
   ]
  }
 ],
 "metadata": {
  "kernelspec": {
   "display_name": "Python 3",
   "language": "python",
   "name": "python3"
  },
  "language_info": {
   "codemirror_mode": {
    "name": "ipython",
    "version": 3
   },
   "file_extension": ".py",
   "mimetype": "text/x-python",
   "name": "python",
   "nbconvert_exporter": "python",
   "pygments_lexer": "ipython3",
   "version": "3.8.5"
  }
 },
 "nbformat": 4,
 "nbformat_minor": 5
}
