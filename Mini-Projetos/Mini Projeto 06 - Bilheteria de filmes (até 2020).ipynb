{
 "cells": [
  {
   "cell_type": "markdown",
   "metadata": {},
   "source": [
    "<h1>Mini Projeto 06 - Bilheteria dos Filmes até 2020. </h1>\n",
    "<i> \n",
    "• Carregar arquivo CSV <br>\n",
    "• Tamanho do dataset (linhas e colunas)<br>\n",
    "• Tipos das colunas <br>\n",
    "• Análise geral dos arquivos <b>(describe)</b><br>\n",
    "• Descobrir se existe um lixo na coluna Data de Lançamento <br>\n",
    "• Alterar a data de Lançamento para DATA <br>\n",
    "• Quantidade de lançamento de filmes em cada ano <br>\n",
    "• Gráfico: Quantidade de Filmes por Ano <br>\n",
    "• Exibir os 5 filmes com maior renda R$ <br>\n",
    "</i>\n",
    "\n",
    "<br>Fonte de dados: <b> Observatório Brasileiro do Cinema e do Audiovisual</b><br>\n",
    "site:https://oca.ancine.gov.br/cinema"
   ]
  },
  {
   "cell_type": "code",
   "execution_count": 1,
   "metadata": {},
   "outputs": [
    {
     "data": {
      "text/html": [
       "<div>\n",
       "<style scoped>\n",
       "    .dataframe tbody tr th:only-of-type {\n",
       "        vertical-align: middle;\n",
       "    }\n",
       "\n",
       "    .dataframe tbody tr th {\n",
       "        vertical-align: top;\n",
       "    }\n",
       "\n",
       "    .dataframe thead th {\n",
       "        text-align: right;\n",
       "    }\n",
       "</style>\n",
       "<table border=\"1\" class=\"dataframe\">\n",
       "  <thead>\n",
       "    <tr style=\"text-align: right;\">\n",
       "      <th></th>\n",
       "      <th>Ano de exibição</th>\n",
       "      <th>Semana de exibição</th>\n",
       "      <th>CPB/ROE</th>\n",
       "      <th>Título da obra</th>\n",
       "      <th>Gênero</th>\n",
       "      <th>País(es) produtor(es) da obra</th>\n",
       "      <th>Nacionalidade da obra</th>\n",
       "      <th>Data de Lançamento</th>\n",
       "      <th>Distribuidora</th>\n",
       "      <th>Origem da empresa distribuidora</th>\n",
       "      <th>Número de salas na semana dos dados</th>\n",
       "      <th>Público na semana dos dados</th>\n",
       "      <th>Renda (R$) na semana dos dados</th>\n",
       "    </tr>\n",
       "  </thead>\n",
       "  <tbody>\n",
       "    <tr>\n",
       "      <th>0</th>\n",
       "      <td>2009</td>\n",
       "      <td>semana 01</td>\n",
       "      <td>B0400084200000</td>\n",
       "      <td>Dragão da Maldade Contra o Santo Guerreiro</td>\n",
       "      <td>Ficção</td>\n",
       "      <td>Brasil</td>\n",
       "      <td>Brasileira</td>\n",
       "      <td>30/05/2008</td>\n",
       "      <td>RioFilme</td>\n",
       "      <td>Distribuição Nacional</td>\n",
       "      <td>1.0</td>\n",
       "      <td>32</td>\n",
       "      <td>344,00</td>\n",
       "    </tr>\n",
       "    <tr>\n",
       "      <th>1</th>\n",
       "      <td>2009</td>\n",
       "      <td>semana 01</td>\n",
       "      <td>B0700678800000</td>\n",
       "      <td>5 Frações de uma Quase História</td>\n",
       "      <td>Ficção</td>\n",
       "      <td>Brasil</td>\n",
       "      <td>Brasileira</td>\n",
       "      <td>09/05/2008</td>\n",
       "      <td>Usina Digital</td>\n",
       "      <td>Distribuição Nacional</td>\n",
       "      <td>1.0</td>\n",
       "      <td>24</td>\n",
       "      <td>120,50</td>\n",
       "    </tr>\n",
       "  </tbody>\n",
       "</table>\n",
       "</div>"
      ],
      "text/plain": [
       "   Ano de exibição Semana de exibição         CPB/ROE  \\\n",
       "0             2009          semana 01  B0400084200000   \n",
       "1             2009          semana 01  B0700678800000   \n",
       "\n",
       "                               Título da obra  Gênero  \\\n",
       "0  Dragão da Maldade Contra o Santo Guerreiro  Ficção   \n",
       "1             5 Frações de uma Quase História  Ficção   \n",
       "\n",
       "  País(es) produtor(es) da obra Nacionalidade da obra Data de Lançamento  \\\n",
       "0                        Brasil            Brasileira         30/05/2008   \n",
       "1                        Brasil            Brasileira         09/05/2008   \n",
       "\n",
       "   Distribuidora Origem da empresa distribuidora  \\\n",
       "0       RioFilme           Distribuição Nacional   \n",
       "1  Usina Digital           Distribuição Nacional   \n",
       "\n",
       "   Número de salas na semana dos dados Público na semana dos dados  \\\n",
       "0                                  1.0                          32   \n",
       "1                                  1.0                          24   \n",
       "\n",
       "  Renda (R$) na semana dos dados  \n",
       "0                         344,00  \n",
       "1                         120,50  "
      ]
     },
     "metadata": {},
     "output_type": "display_data"
    },
    {
     "data": {
      "text/html": [
       "<div>\n",
       "<style scoped>\n",
       "    .dataframe tbody tr th:only-of-type {\n",
       "        vertical-align: middle;\n",
       "    }\n",
       "\n",
       "    .dataframe tbody tr th {\n",
       "        vertical-align: top;\n",
       "    }\n",
       "\n",
       "    .dataframe thead th {\n",
       "        text-align: right;\n",
       "    }\n",
       "</style>\n",
       "<table border=\"1\" class=\"dataframe\">\n",
       "  <thead>\n",
       "    <tr style=\"text-align: right;\">\n",
       "      <th></th>\n",
       "      <th>Ano de exibição</th>\n",
       "      <th>Semana de exibição</th>\n",
       "      <th>CPB/ROE</th>\n",
       "      <th>Título da obra</th>\n",
       "      <th>Gênero</th>\n",
       "      <th>País(es) produtor(es) da obra</th>\n",
       "      <th>Nacionalidade da obra</th>\n",
       "      <th>Data de Lançamento</th>\n",
       "      <th>Distribuidora</th>\n",
       "      <th>Origem da empresa distribuidora</th>\n",
       "      <th>Número de salas na semana dos dados</th>\n",
       "      <th>Público na semana dos dados</th>\n",
       "      <th>Renda (R$) na semana dos dados</th>\n",
       "    </tr>\n",
       "  </thead>\n",
       "  <tbody>\n",
       "    <tr>\n",
       "      <th>63836</th>\n",
       "      <td>2020</td>\n",
       "      <td>semana 53</td>\n",
       "      <td>E2000476200000</td>\n",
       "      <td>Quando Hitler Roubou O Coelho Cor-De-Rosa</td>\n",
       "      <td>Ficção</td>\n",
       "      <td>Alemanha</td>\n",
       "      <td>Estrangeira</td>\n",
       "      <td>10/12/2020</td>\n",
       "      <td>A2 Filmes</td>\n",
       "      <td>Distribuição Nacional</td>\n",
       "      <td>3.0</td>\n",
       "      <td>56</td>\n",
       "      <td>1.079,92</td>\n",
       "    </tr>\n",
       "    <tr>\n",
       "      <th>63837</th>\n",
       "      <td>2020</td>\n",
       "      <td>semana 53</td>\n",
       "      <td>E2000480400000</td>\n",
       "      <td>O Céu Da Meia-Noite</td>\n",
       "      <td>Ficção</td>\n",
       "      <td>Estados Unidos</td>\n",
       "      <td>Estrangeira</td>\n",
       "      <td>10/12/2020</td>\n",
       "      <td>O2 Play</td>\n",
       "      <td>Distribuição Nacional</td>\n",
       "      <td>2.0</td>\n",
       "      <td>15</td>\n",
       "      <td>283,98</td>\n",
       "    </tr>\n",
       "  </tbody>\n",
       "</table>\n",
       "</div>"
      ],
      "text/plain": [
       "       Ano de exibição Semana de exibição         CPB/ROE  \\\n",
       "63836             2020          semana 53  E2000476200000   \n",
       "63837             2020          semana 53  E2000480400000   \n",
       "\n",
       "                                  Título da obra  Gênero  \\\n",
       "63836  Quando Hitler Roubou O Coelho Cor-De-Rosa  Ficção   \n",
       "63837                        O Céu Da Meia-Noite  Ficção   \n",
       "\n",
       "      País(es) produtor(es) da obra Nacionalidade da obra Data de Lançamento  \\\n",
       "63836                      Alemanha           Estrangeira         10/12/2020   \n",
       "63837                Estados Unidos           Estrangeira         10/12/2020   \n",
       "\n",
       "      Distribuidora Origem da empresa distribuidora  \\\n",
       "63836     A2 Filmes           Distribuição Nacional   \n",
       "63837       O2 Play           Distribuição Nacional   \n",
       "\n",
       "       Número de salas na semana dos dados Público na semana dos dados  \\\n",
       "63836                                  3.0                          56   \n",
       "63837                                  2.0                          15   \n",
       "\n",
       "      Renda (R$) na semana dos dados  \n",
       "63836                       1.079,92  \n",
       "63837                         283,98  "
      ]
     },
     "metadata": {},
     "output_type": "display_data"
    }
   ],
   "source": [
    "#Importando o Pandas, Importando o Excel \n",
    "#Importando o Matplotlib para criar gráfico\n",
    "#skiprows -> principais linhas a serem removidas\n",
    "#skipfooter -> últimas linhas removidas\n",
    "#sep -> separador (Tem CSV que é ; outros | e etc)\n",
    "#encoding= ->  é um tipo de codificação binária que aceita acentuação\n",
    "\n",
    "import pandas as pd\n",
    "import numpy as np\n",
    "import matplotlib.pyplot as plt\n",
    "\n",
    "\n",
    "#ataset = pd.read_csv('Filmes.csv',sep=';',encoding='ANSI',skiprows=2, skipfooter=23)\n",
    "dataset = pd.read_csv('Filmes.csv',sep=';',skiprows=2, skipfooter=23, encoding='ANSI', engine='python')\n",
    "\n",
    "#Exibir as 2 primeiras Linhas\n",
    "display(dataset.head(2))\n",
    "\n",
    "#Exibir as 2 últimas linhas\n",
    "display(dataset.tail(2))\n",
    "\n",
    "\n"
   ]
  },
  {
   "cell_type": "markdown",
   "metadata": {},
   "source": [
    "<h3> Tamanho do dataset, e os tipos das colunas </h3>"
   ]
  },
  {
   "cell_type": "code",
   "execution_count": 2,
   "metadata": {},
   "outputs": [
    {
     "name": "stdout",
     "output_type": "stream",
     "text": [
      "Ano de exibição                          int64\n",
      "Semana de exibição                      object\n",
      "CPB/ROE                                 object\n",
      "Título da obra                          object\n",
      "Gênero                                  object\n",
      "País(es) produtor(es) da obra           object\n",
      "Nacionalidade da obra                   object\n",
      "Data de Lançamento                      object\n",
      "Distribuidora                           object\n",
      "Origem da empresa distribuidora         object\n",
      "Número de salas na semana dos dados    float64\n",
      "Público na semana dos dados             object\n",
      "Renda (R$) na semana dos dados          object\n",
      "dtype: object\n",
      "\n",
      "\n",
      "(63838, 13)\n",
      "linhas,colunas\n"
     ]
    }
   ],
   "source": [
    "print(dataset.dtypes)\n",
    "print('\\n')\n",
    "\n",
    "#SHAPE (nº de linhas,nº de colunas )\n",
    "shape = dataset.shape\n",
    "print(shape)\n",
    "print('linhas,colunas')"
   ]
  },
  {
   "cell_type": "markdown",
   "metadata": {},
   "source": [
    "<h3>Descobrir se existe um <i>lixo</i> na coluna <i> Data de Lançamento </i> </h3>"
   ]
  },
  {
   "cell_type": "code",
   "execution_count": 3,
   "metadata": {},
   "outputs": [
    {
     "data": {
      "text/plain": [
       "Relançamento    682\n",
       "23/10/2014      253\n",
       "21/12/2012      233\n",
       "05/06/2009      198\n",
       "20/08/2015      198\n",
       "               ... \n",
       "06/04/2007        1\n",
       "22/07/2005        1\n",
       "22/07/2021        1\n",
       "03/08/2007        1\n",
       "22/04/2005        1\n",
       "Name: Data de Lançamento, Length: 919, dtype: int64"
      ]
     },
     "execution_count": 3,
     "metadata": {},
     "output_type": "execute_result"
    }
   ],
   "source": [
    "dataset['Data de Lançamento'].value_counts()"
   ]
  },
  {
   "cell_type": "code",
   "execution_count": 4,
   "metadata": {},
   "outputs": [
    {
     "data": {
      "text/html": [
       "<div>\n",
       "<style scoped>\n",
       "    .dataframe tbody tr th:only-of-type {\n",
       "        vertical-align: middle;\n",
       "    }\n",
       "\n",
       "    .dataframe tbody tr th {\n",
       "        vertical-align: top;\n",
       "    }\n",
       "\n",
       "    .dataframe thead th {\n",
       "        text-align: right;\n",
       "    }\n",
       "</style>\n",
       "<table border=\"1\" class=\"dataframe\">\n",
       "  <thead>\n",
       "    <tr style=\"text-align: right;\">\n",
       "      <th></th>\n",
       "      <th>Ano de exibição</th>\n",
       "      <th>Semana de exibição</th>\n",
       "      <th>CPB/ROE</th>\n",
       "      <th>Título da obra</th>\n",
       "      <th>Gênero</th>\n",
       "      <th>País(es) produtor(es) da obra</th>\n",
       "      <th>Nacionalidade da obra</th>\n",
       "      <th>Data de Lançamento</th>\n",
       "      <th>Distribuidora</th>\n",
       "      <th>Origem da empresa distribuidora</th>\n",
       "      <th>Número de salas na semana dos dados</th>\n",
       "      <th>Público na semana dos dados</th>\n",
       "      <th>Renda (R$) na semana dos dados</th>\n",
       "    </tr>\n",
       "  </thead>\n",
       "  <tbody>\n",
       "    <tr>\n",
       "      <th>0</th>\n",
       "      <td>2009</td>\n",
       "      <td>semana 01</td>\n",
       "      <td>B0400084200000</td>\n",
       "      <td>Dragão da Maldade Contra o Santo Guerreiro</td>\n",
       "      <td>Ficção</td>\n",
       "      <td>Brasil</td>\n",
       "      <td>Brasileira</td>\n",
       "      <td>30/05/2008</td>\n",
       "      <td>RioFilme</td>\n",
       "      <td>Distribuição Nacional</td>\n",
       "      <td>1.0</td>\n",
       "      <td>32</td>\n",
       "      <td>344,00</td>\n",
       "    </tr>\n",
       "    <tr>\n",
       "      <th>1</th>\n",
       "      <td>2009</td>\n",
       "      <td>semana 01</td>\n",
       "      <td>B0700678800000</td>\n",
       "      <td>5 Frações de uma Quase História</td>\n",
       "      <td>Ficção</td>\n",
       "      <td>Brasil</td>\n",
       "      <td>Brasileira</td>\n",
       "      <td>09/05/2008</td>\n",
       "      <td>Usina Digital</td>\n",
       "      <td>Distribuição Nacional</td>\n",
       "      <td>1.0</td>\n",
       "      <td>24</td>\n",
       "      <td>120,50</td>\n",
       "    </tr>\n",
       "  </tbody>\n",
       "</table>\n",
       "</div>"
      ],
      "text/plain": [
       "   Ano de exibição Semana de exibição         CPB/ROE  \\\n",
       "0             2009          semana 01  B0400084200000   \n",
       "1             2009          semana 01  B0700678800000   \n",
       "\n",
       "                               Título da obra  Gênero  \\\n",
       "0  Dragão da Maldade Contra o Santo Guerreiro  Ficção   \n",
       "1             5 Frações de uma Quase História  Ficção   \n",
       "\n",
       "  País(es) produtor(es) da obra Nacionalidade da obra Data de Lançamento  \\\n",
       "0                        Brasil            Brasileira         30/05/2008   \n",
       "1                        Brasil            Brasileira         09/05/2008   \n",
       "\n",
       "   Distribuidora Origem da empresa distribuidora  \\\n",
       "0       RioFilme           Distribuição Nacional   \n",
       "1  Usina Digital           Distribuição Nacional   \n",
       "\n",
       "   Número de salas na semana dos dados Público na semana dos dados  \\\n",
       "0                                  1.0                          32   \n",
       "1                                  1.0                          24   \n",
       "\n",
       "  Renda (R$) na semana dos dados  \n",
       "0                         344,00  \n",
       "1                         120,50  "
      ]
     },
     "metadata": {},
     "output_type": "display_data"
    },
    {
     "data": {
      "text/plain": [
       "Ano de exibição                          int64\n",
       "Semana de exibição                      object\n",
       "CPB/ROE                                 object\n",
       "Título da obra                          object\n",
       "Gênero                                  object\n",
       "País(es) produtor(es) da obra           object\n",
       "Nacionalidade da obra                   object\n",
       "Data de Lançamento                      object\n",
       "Distribuidora                           object\n",
       "Origem da empresa distribuidora         object\n",
       "Número de salas na semana dos dados    float64\n",
       "Público na semana dos dados             object\n",
       "Renda (R$) na semana dos dados          object\n",
       "dtype: object"
      ]
     },
     "execution_count": 4,
     "metadata": {},
     "output_type": "execute_result"
    }
   ],
   "source": [
    "dataset_novo = dataset[dataset['Data de Lançamento']!='Relançamento'].copy()\n",
    "display(dataset_novo.head(2))\n",
    "dataset_novo.dtypes"
   ]
  },
  {
   "cell_type": "markdown",
   "metadata": {},
   "source": [
    "<h3> Alterando a coluna Data de Lançamento para datatime </h3>"
   ]
  },
  {
   "cell_type": "code",
   "execution_count": 5,
   "metadata": {},
   "outputs": [
    {
     "data": {
      "text/plain": [
       "Ano de exibição                                 int64\n",
       "Semana de exibição                             object\n",
       "CPB/ROE                                        object\n",
       "Título da obra                                 object\n",
       "Gênero                                         object\n",
       "País(es) produtor(es) da obra                  object\n",
       "Nacionalidade da obra                          object\n",
       "Data de Lançamento                     datetime64[ns]\n",
       "Distribuidora                                  object\n",
       "Origem da empresa distribuidora                object\n",
       "Número de salas na semana dos dados           float64\n",
       "Público na semana dos dados                    object\n",
       "Renda (R$) na semana dos dados                 object\n",
       "dtype: object"
      ]
     },
     "execution_count": 5,
     "metadata": {},
     "output_type": "execute_result"
    }
   ],
   "source": [
    "dataset_novo['Data de Lançamento'] = pd.to_datetime(dataset_novo['Data de Lançamento'])\n",
    "dataset_novo.dtypes\n"
   ]
  },
  {
   "cell_type": "markdown",
   "metadata": {},
   "source": [
    "<h3> Análise geral do dataset </h3>\n",
    "<i> Contagem, Média, Desvio Padrão, Percentil, Maior e Menor </i>"
   ]
  },
  {
   "cell_type": "code",
   "execution_count": 6,
   "metadata": {},
   "outputs": [
    {
     "data": {
      "text/html": [
       "<div>\n",
       "<style scoped>\n",
       "    .dataframe tbody tr th:only-of-type {\n",
       "        vertical-align: middle;\n",
       "    }\n",
       "\n",
       "    .dataframe tbody tr th {\n",
       "        vertical-align: top;\n",
       "    }\n",
       "\n",
       "    .dataframe thead th {\n",
       "        text-align: right;\n",
       "    }\n",
       "</style>\n",
       "<table border=\"1\" class=\"dataframe\">\n",
       "  <thead>\n",
       "    <tr style=\"text-align: right;\">\n",
       "      <th></th>\n",
       "      <th>Ano de exibição</th>\n",
       "      <th>Número de salas na semana dos dados</th>\n",
       "    </tr>\n",
       "  </thead>\n",
       "  <tbody>\n",
       "    <tr>\n",
       "      <th>count</th>\n",
       "      <td>63156.00</td>\n",
       "      <td>63156.00</td>\n",
       "    </tr>\n",
       "    <tr>\n",
       "      <th>mean</th>\n",
       "      <td>2014.08</td>\n",
       "      <td>36.70</td>\n",
       "    </tr>\n",
       "    <tr>\n",
       "      <th>std</th>\n",
       "      <td>3.31</td>\n",
       "      <td>111.86</td>\n",
       "    </tr>\n",
       "    <tr>\n",
       "      <th>min</th>\n",
       "      <td>2009.00</td>\n",
       "      <td>0.00</td>\n",
       "    </tr>\n",
       "    <tr>\n",
       "      <th>25%</th>\n",
       "      <td>2011.00</td>\n",
       "      <td>1.00</td>\n",
       "    </tr>\n",
       "    <tr>\n",
       "      <th>50%</th>\n",
       "      <td>2014.00</td>\n",
       "      <td>3.00</td>\n",
       "    </tr>\n",
       "    <tr>\n",
       "      <th>75%</th>\n",
       "      <td>2017.00</td>\n",
       "      <td>12.00</td>\n",
       "    </tr>\n",
       "    <tr>\n",
       "      <th>max</th>\n",
       "      <td>2020.00</td>\n",
       "      <td>999.00</td>\n",
       "    </tr>\n",
       "  </tbody>\n",
       "</table>\n",
       "</div>"
      ],
      "text/plain": [
       "       Ano de exibição  Número de salas na semana dos dados\n",
       "count         63156.00                             63156.00\n",
       "mean           2014.08                                36.70\n",
       "std               3.31                               111.86\n",
       "min            2009.00                                 0.00\n",
       "25%            2011.00                                 1.00\n",
       "50%            2014.00                                 3.00\n",
       "75%            2017.00                                12.00\n",
       "max            2020.00                               999.00"
      ]
     },
     "execution_count": 6,
     "metadata": {},
     "output_type": "execute_result"
    }
   ],
   "source": [
    "round(dataset_novo.describe(),2)"
   ]
  },
  {
   "cell_type": "markdown",
   "metadata": {},
   "source": [
    "<h3> Quantidade de lançamento de filmes em cada ano </h3>"
   ]
  },
  {
   "cell_type": "code",
   "execution_count": 7,
   "metadata": {},
   "outputs": [
    {
     "data": {
      "text/plain": [
       "2013    5966\n",
       "2009    5823\n",
       "2014    5747\n",
       "2011    5677\n",
       "2017    5524\n",
       "2010    5493\n",
       "2015    5353\n",
       "2012    5313\n",
       "2018    5174\n",
       "2016    5006\n",
       "2019    4679\n",
       "2008    1548\n",
       "2020    1181\n",
       "2007     344\n",
       "2006     166\n",
       "2005      62\n",
       "2004      25\n",
       "2001      25\n",
       "2002      21\n",
       "1999      10\n",
       "2003       7\n",
       "1998       5\n",
       "2000       4\n",
       "2021       1\n",
       "1987       1\n",
       "1978       1\n",
       "Name: Data de Lançamento, dtype: int64"
      ]
     },
     "execution_count": 7,
     "metadata": {},
     "output_type": "execute_result"
    }
   ],
   "source": [
    "dataset_novo['Data de Lançamento'].dt.year.value_counts()"
   ]
  },
  {
   "cell_type": "markdown",
   "metadata": {},
   "source": [
    "<h3> Gráfico: Quantidade de Filmes por Ano </h3>\n"
   ]
  },
  {
   "cell_type": "code",
   "execution_count": 8,
   "metadata": {},
   "outputs": [
    {
     "data": {
      "text/plain": [
       "<AxesSubplot:title={'center':'Quantidade de Filmes por Ano'}, xlabel='\\nAno do lançamento', ylabel='\\nQuantidade de filmes exibidos'>"
      ]
     },
     "execution_count": 8,
     "metadata": {},
     "output_type": "execute_result"
    },
    {
     "data": {
      "image/png": "[encoded data removed]",
      "text/plain": [
       "<Figure size 1296x576 with 1 Axes>"
      ]
     },
     "metadata": {
      "needs_background": "light"
     },
     "output_type": "display_data"
    }
   ],
   "source": [
    "#Variável\n",
    "filmes_ano = dataset_novo['Data de Lançamento'].dt.year.value_counts()\n",
    "\n",
    "#Tamanho do Gráfico\n",
    "plt.figure(figsize=(18,8))\n",
    "\n",
    "#Título do Gráfico\n",
    "plt.title('Quantidade de Filmes por Ano')\n",
    "\n",
    "# Título Lateral e Título no Rodapé\n",
    "plt.ylabel('\\nQuantidade de filmes exibidos', fontsize='13')\n",
    "plt.xlabel('\\nAno do lançamento', fontsize='13')\n",
    "\n",
    "filmes_ano.plot.bar( \n",
    "    color=['#6A5ACD','#836FFF' ,'#6959CD', '#191970','#000080', '#00008B','#483D8B','#0000FF','#4169E1','#00BFFF','#87CEEB','#4682B4','#708090','#708090','#A9A9A9','#808080','#696969','#4F4F4F','#363636','#1C1C1C','#000000'],\n",
    "    edgecolor='#66CDAA', linewidth=1,hatch='///'\n",
    ")   \n"
   ]
  },
  {
   "cell_type": "markdown",
   "metadata": {},
   "source": [
    "<h3> Exibir os 5 filmes com maior renda R$ </h3> "
   ]
  },
  {
   "cell_type": "code",
   "execution_count": 9,
   "metadata": {},
   "outputs": [
    {
     "data": {
      "text/html": [
       "<div>\n",
       "<style scoped>\n",
       "    .dataframe tbody tr th:only-of-type {\n",
       "        vertical-align: middle;\n",
       "    }\n",
       "\n",
       "    .dataframe tbody tr th {\n",
       "        vertical-align: top;\n",
       "    }\n",
       "\n",
       "    .dataframe thead th {\n",
       "        text-align: right;\n",
       "    }\n",
       "</style>\n",
       "<table border=\"1\" class=\"dataframe\">\n",
       "  <thead>\n",
       "    <tr style=\"text-align: right;\">\n",
       "      <th></th>\n",
       "      <th>Título da obra</th>\n",
       "      <th>Renda (R$) na semana dos dados</th>\n",
       "      <th>Semana de exibição</th>\n",
       "      <th>Ano de exibição</th>\n",
       "      <th>Público na semana dos dados</th>\n",
       "    </tr>\n",
       "  </thead>\n",
       "  <tbody>\n",
       "    <tr>\n",
       "      <th>58026</th>\n",
       "      <td>Vingadores: Ultimato</td>\n",
       "      <td>161351954.0</td>\n",
       "      <td>semana 17</td>\n",
       "      <td>2019</td>\n",
       "      <td>9.098.740</td>\n",
       "    </tr>\n",
       "    <tr>\n",
       "      <th>52763</th>\n",
       "      <td>VINGADORES: GUERRA INFINITA</td>\n",
       "      <td>111363840.0</td>\n",
       "      <td>semana 18</td>\n",
       "      <td>2018</td>\n",
       "      <td>6.603.711</td>\n",
       "    </tr>\n",
       "    <tr>\n",
       "      <th>58978</th>\n",
       "      <td>O Rei Leão</td>\n",
       "      <td>109037513.0</td>\n",
       "      <td>semana 29</td>\n",
       "      <td>2019</td>\n",
       "      <td>6.502.140</td>\n",
       "    </tr>\n",
       "    <tr>\n",
       "      <th>58101</th>\n",
       "      <td>Vingadores: Ultimato</td>\n",
       "      <td>90058536.0</td>\n",
       "      <td>semana 18</td>\n",
       "      <td>2019</td>\n",
       "      <td>5.323.258</td>\n",
       "    </tr>\n",
       "    <tr>\n",
       "      <th>59037</th>\n",
       "      <td>O Rei Leão</td>\n",
       "      <td>72023724.0</td>\n",
       "      <td>semana 30</td>\n",
       "      <td>2019</td>\n",
       "      <td>4.382.106</td>\n",
       "    </tr>\n",
       "  </tbody>\n",
       "</table>\n",
       "</div>"
      ],
      "text/plain": [
       "                    Título da obra  Renda (R$) na semana dos dados  \\\n",
       "58026         Vingadores: Ultimato                     161351954.0   \n",
       "52763  VINGADORES: GUERRA INFINITA                     111363840.0   \n",
       "58978                   O Rei Leão                     109037513.0   \n",
       "58101         Vingadores: Ultimato                      90058536.0   \n",
       "59037                   O Rei Leão                      72023724.0   \n",
       "\n",
       "      Semana de exibição  Ano de exibição Público na semana dos dados  \n",
       "58026          semana 17             2019                   9.098.740  \n",
       "52763          semana 18             2018                   6.603.711  \n",
       "58978          semana 29             2019                   6.502.140  \n",
       "58101          semana 18             2019                   5.323.258  \n",
       "59037          semana 30             2019                   4.382.106  "
      ]
     },
     "execution_count": 9,
     "metadata": {},
     "output_type": "execute_result"
    }
   ],
   "source": [
    "#=======================================================\n",
    "#!!! Coluna de Renda está com valor padrão americano !!!\n",
    "\n",
    "#Mudar o ponto para nada e a vírgula para ponto\n",
    "dataset_novo['Renda (R$) na semana dos dados'] = dataset_novo['Renda (R$) na semana dos dados'].str.replace('.','')\n",
    "dataset_novo['Renda (R$) na semana dos dados'] = dataset_novo['Renda (R$) na semana dos dados'].str.replace(',','.')\n",
    "\n",
    "#Alterando a coluna para FLOAT\n",
    "dataset_novo['Renda (R$) na semana dos dados'] = dataset_novo['Renda (R$) na semana dos dados'].astype('float64')\n",
    "\n",
    "# Exibindo os 5 filmes com maior renda R$\n",
    "\n",
    "dataset_novo.nlargest(5,'Renda (R$) na semana dos dados')[['Título da obra','Renda (R$) na semana dos dados','Semana de exibição','Ano de exibição','Público na semana dos dados']]\n"
   ]
  },
  {
   "cell_type": "code",
   "execution_count": 60,
   "metadata": {},
   "outputs": [
    {
     "data": {
      "text/plain": [
       "Nacionalidade da obra\n",
       "Brasileira     172978.675558\n",
       "Estrangeira    420469.840873\n",
       "Name: Renda (R$) na semana dos dados, dtype: float64"
      ]
     },
     "metadata": {},
     "output_type": "display_data"
    }
   ],
   "source": [
    "dataset_nacionalidade = dataset_novo.groupby('Nacionalidade da obra').mean()['Renda (R$) na semana dos dados']\n",
    "\n",
    "display(dataset_nacionalidade)\n",
    " "
   ]
  },
  {
   "cell_type": "code",
   "execution_count": 95,
   "metadata": {},
   "outputs": [
    {
     "data": {
      "text/plain": [
       "<AxesSubplot:title={'center':'Média de Renda por Nacionalidade'}, ylabel='\\n Nacionalidade'>"
      ]
     },
     "execution_count": 95,
     "metadata": {},
     "output_type": "execute_result"
    },
    {
     "data": {
      "image/png": "[encoded data removed]",
      "text/plain": [
       "<Figure size 1080x576 with 1 Axes>"
      ]
     },
     "metadata": {
      "needs_background": "light"
     },
     "output_type": "display_data"
    }
   ],
   "source": [
    "#Variável\n",
    "#filmes_ano = dataset_novo['Data de Lançamento'].dt.year.value_counts()\n",
    "\n",
    "dataset_nacionalidade.plot.barh(\n",
    "    figsize=(15,8),\n",
    "    title = 'Média de Renda por Nacionalidade',\n",
    "    xlabel = '\\n Nacionalidade',\n",
    "    color=['#A52A2A','#4682B4'],edgecolor='#DCDCDC', linewidth=0.2,hatch='x/O.')   \n"
   ]
  }
 ],
 "metadata": {
  "kernelspec": {
   "display_name": "Python 3",
   "language": "python",
   "name": "python3"
  },
  "language_info": {
   "codemirror_mode": {
    "name": "ipython",
    "version": 3
   },
   "file_extension": ".py",
   "mimetype": "text/x-python",
   "name": "python",
   "nbconvert_exporter": "python",
   "pygments_lexer": "ipython3",
   "version": "3.8.5"
  }
 },
 "nbformat": 4,
 "nbformat_minor": 4
}
