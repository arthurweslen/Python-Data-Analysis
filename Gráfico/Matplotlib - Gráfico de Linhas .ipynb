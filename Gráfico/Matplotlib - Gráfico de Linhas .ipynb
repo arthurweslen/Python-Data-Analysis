{
 "cells": [
  {
   "cell_type": "markdown",
   "metadata": {},
   "source": [
    "<h1>Gráfico de Linnhas</h1>"
   ]
  },
  {
   "cell_type": "markdown",
   "metadata": {},
   "source": [
    "<i> \n",
    "• Importe o Pandas<br>\n",
    "• Importe o Matplotlib<br>"
   ]
  },
  {
   "cell_type": "code",
   "execution_count": 1,
   "metadata": {},
   "outputs": [
    {
     "data": {
      "text/html": [
       "<div>\n",
       "<style scoped>\n",
       "    .dataframe tbody tr th:only-of-type {\n",
       "        vertical-align: middle;\n",
       "    }\n",
       "\n",
       "    .dataframe tbody tr th {\n",
       "        vertical-align: top;\n",
       "    }\n",
       "\n",
       "    .dataframe thead th {\n",
       "        text-align: right;\n",
       "    }\n",
       "</style>\n",
       "<table border=\"1\" class=\"dataframe\">\n",
       "  <thead>\n",
       "    <tr style=\"text-align: right;\">\n",
       "      <th></th>\n",
       "      <th>Mês</th>\n",
       "      <th>Venda</th>\n",
       "      <th>Compra</th>\n",
       "      <th>Lucro</th>\n",
       "    </tr>\n",
       "  </thead>\n",
       "  <tbody>\n",
       "    <tr>\n",
       "      <th>0</th>\n",
       "      <td>1</td>\n",
       "      <td>5800</td>\n",
       "      <td>4720</td>\n",
       "      <td>1080</td>\n",
       "    </tr>\n",
       "    <tr>\n",
       "      <th>1</th>\n",
       "      <td>2</td>\n",
       "      <td>5900</td>\n",
       "      <td>4800</td>\n",
       "      <td>1100</td>\n",
       "    </tr>\n",
       "    <tr>\n",
       "      <th>2</th>\n",
       "      <td>3</td>\n",
       "      <td>5300</td>\n",
       "      <td>4880</td>\n",
       "      <td>420</td>\n",
       "    </tr>\n",
       "    <tr>\n",
       "      <th>3</th>\n",
       "      <td>4</td>\n",
       "      <td>6100</td>\n",
       "      <td>4960</td>\n",
       "      <td>1140</td>\n",
       "    </tr>\n",
       "    <tr>\n",
       "      <th>4</th>\n",
       "      <td>5</td>\n",
       "      <td>6200</td>\n",
       "      <td>5040</td>\n",
       "      <td>1160</td>\n",
       "    </tr>\n",
       "    <tr>\n",
       "      <th>5</th>\n",
       "      <td>6</td>\n",
       "      <td>5600</td>\n",
       "      <td>5912</td>\n",
       "      <td>-312</td>\n",
       "    </tr>\n",
       "    <tr>\n",
       "      <th>6</th>\n",
       "      <td>7</td>\n",
       "      <td>6733</td>\n",
       "      <td>6024</td>\n",
       "      <td>709</td>\n",
       "    </tr>\n",
       "    <tr>\n",
       "      <th>7</th>\n",
       "      <td>8</td>\n",
       "      <td>5212</td>\n",
       "      <td>6136</td>\n",
       "      <td>-924</td>\n",
       "    </tr>\n",
       "    <tr>\n",
       "      <th>8</th>\n",
       "      <td>9</td>\n",
       "      <td>5123</td>\n",
       "      <td>6248</td>\n",
       "      <td>-1125</td>\n",
       "    </tr>\n",
       "    <tr>\n",
       "      <th>9</th>\n",
       "      <td>10</td>\n",
       "      <td>7123</td>\n",
       "      <td>6360</td>\n",
       "      <td>763</td>\n",
       "    </tr>\n",
       "    <tr>\n",
       "      <th>10</th>\n",
       "      <td>11</td>\n",
       "      <td>9123</td>\n",
       "      <td>6600</td>\n",
       "      <td>2523</td>\n",
       "    </tr>\n",
       "    <tr>\n",
       "      <th>11</th>\n",
       "      <td>12</td>\n",
       "      <td>11044</td>\n",
       "      <td>7000</td>\n",
       "      <td>4044</td>\n",
       "    </tr>\n",
       "  </tbody>\n",
       "</table>\n",
       "</div>"
      ],
      "text/plain": [
       "    Mês  Venda  Compra  Lucro\n",
       "0     1   5800    4720   1080\n",
       "1     2   5900    4800   1100\n",
       "2     3   5300    4880    420\n",
       "3     4   6100    4960   1140\n",
       "4     5   6200    5040   1160\n",
       "5     6   5600    5912   -312\n",
       "6     7   6733    6024    709\n",
       "7     8   5212    6136   -924\n",
       "8     9   5123    6248  -1125\n",
       "9    10   7123    6360    763\n",
       "10   11   9123    6600   2523\n",
       "11   12  11044    7000   4044"
      ]
     },
     "metadata": {},
     "output_type": "display_data"
    }
   ],
   "source": [
    "# Importando as bibliotecas\n",
    "import pandas as pd\n",
    "import matplotlib.pyplot as plt\n",
    "%matplotlib inline\n",
    "\n",
    "#Carregando o exel\n",
    "dataset = pd.read_excel('Vendas_2021.xlsx', sheet_name='Venda_2021',skiprows=0)\n",
    "display(dataset)"
   ]
  },
  {
   "cell_type": "code",
   "execution_count": 2,
   "metadata": {},
   "outputs": [
    {
     "data": {
      "text/plain": [
       "Mês       int64\n",
       "Venda     int64\n",
       "Compra    int64\n",
       "Lucro     int64\n",
       "dtype: object"
      ]
     },
     "execution_count": 2,
     "metadata": {},
     "output_type": "execute_result"
    }
   ],
   "source": [
    "dataset.dtypes"
   ]
  },
  {
   "cell_type": "markdown",
   "metadata": {},
   "source": [
    "<h3> Criando o X e o Y para o gráfico </h3>\n",
    "\n"
   ]
  },
  {
   "cell_type": "code",
   "execution_count": 3,
   "metadata": {},
   "outputs": [],
   "source": [
    "x = dataset['Mês']\n",
    "y = dataset['Venda']"
   ]
  },
  {
   "cell_type": "markdown",
   "metadata": {},
   "source": [
    "<h3> Gráfico de Linhas </h3>"
   ]
  },
  {
   "cell_type": "code",
   "execution_count": 4,
   "metadata": {},
   "outputs": [
    {
     "data": {
      "text/plain": [
       "[<matplotlib.lines.Line2D at 0x19240122fa0>]"
      ]
     },
     "execution_count": 4,
     "metadata": {},
     "output_type": "execute_result"
    },
    {
     "data": {
      "image/png": "[encoded data removed]",
      "text/plain": [
       "<Figure size 432x288 with 1 Axes>"
      ]
     },
     "metadata": {
      "needs_background": "light"
     },
     "output_type": "display_data"
    }
   ],
   "source": [
    "#plt.plot(x,y)\n",
    "\n",
    "plt.plot(x,y)"
   ]
  },
  {
   "cell_type": "markdown",
   "metadata": {},
   "source": [
    "<h3> Gráfico de Linhas - Personalizado </h3>"
   ]
  },
  {
   "cell_type": "code",
   "execution_count": 5,
   "metadata": {},
   "outputs": [
    {
     "data": {
      "text/plain": [
       "[<matplotlib.lines.Line2D at 0x19240210100>]"
      ]
     },
     "execution_count": 5,
     "metadata": {},
     "output_type": "execute_result"
    },
    {
     "data": {
      "image/png": "[encoded data removed]",
      "text/plain": [
       "<Figure size 1080x576 with 1 Axes>"
      ]
     },
     "metadata": {
      "needs_background": "light"
     },
     "output_type": "display_data"
    }
   ],
   "source": [
    "#TAMANHO GRAFICO       ====> plt.figure(figsize=(x,y)\n",
    "#TITULO GRÁFICO        ====> plt.title\n",
    "#TITULO LATERAL        ====> plt.ylabel\n",
    "#TITULO RODAPÉ         ====> plt.Xlabel\n",
    "\n",
    "#COR DA LINHA          ====> color\n",
    "#ESTILO DA LINHA       ====> linestyle\n",
    "#ESPESSURA LINHA       ====> linewidth\n",
    "#MOVIMENTO DA LINHA    ====> drawstyle\n",
    "#BOLINNHA              ====> marker\n",
    "#COR BOLINHA           ====> markerfacecolor\n",
    "#TAMANHO BOLINHA       ====> markersize\n",
    "#PREENCHIMENTO BOLINHA ====> fillstyle\n",
    "\n",
    "\n",
    "#=== Configuração Geral === \n",
    "plt.figure(figsize=(15,8))\n",
    "plt.title('Total de Venda por Mês')\n",
    "plt.ylabel('Total de Vendas', fontsize='14')\n",
    "plt.xlabel('Meses', fontsize='14')\n",
    "\n",
    "#=== Configuração Gráfico Linha === \n",
    "plt.plot(x,y,color='silver', linestyle='dashdot',linewidth=2,\n",
    "         drawstyle='steps',         \n",
    "         marker='o', markerfacecolor='blue', markersize=13,fillstyle='bottom'\n",
    "        )\n",
    "\n",
    "\n"
   ]
  },
  {
   "cell_type": "markdown",
   "metadata": {},
   "source": [
    "<h3> Mais detalhes sobre os atributos </h3> \n",
    "\n",
    "<b>Linestyle: </b>\n",
    "<br>\n",
    "<i>\n",
    "• \"solid\" <br> \n",
    "• \"dashed\" <br>\n",
    "• \"dashdot\" <br>\n",
    "• \"dotted\" <br>\n",
    "</i>\n",
    "<br>\n",
    "<b>Maker: </b>\n",
    "<br>\n",
    "<i>\n",
    "• 'o' <br> \n",
    "• 'x' <br> \n",
    "• 's' <br> \n",
    "• 'd' <br> \n",
    "</i>\n",
    "<br>\n",
    "<b>drawstyle: </b>\n",
    "<br>\n",
    "<i>\n",
    "• 'steps' <br> \n",
    "• 'default' <br> \n",
    "</i>\n",
    "<br>\n",
    "<b>fillstyle: </b>\n",
    "<br>\n",
    "<i>\n",
    "• 'full' <br> \n",
    "• 'left' <br> \n",
    "• 'right' <br>\n",
    "• 'bottom'   \n",
    "• 'top' <br> \n",
    "• 'none' <br>    \n",
    "\n",
    "</i>\n",
    "<br>\n",
    "    \n",
    "    \n",
    "   "
   ]
  },
  {
   "cell_type": "markdown",
   "metadata": {},
   "source": [
    "<h3> Referência </h3>\n",
    "\n",
    "<i> https://matplotlib.org/2.1.2/api/_as_gen/matplotlib.lines.Line2D.html<br>\n",
    "     https://matplotlib.org/2.1.2/api/_as_gen/matplotlib.pyplot.plot.html</i>\n",
    "  "
   ]
  }
 ],
 "metadata": {
  "kernelspec": {
   "display_name": "Python 3",
   "language": "python",
   "name": "python3"
  },
  "language_info": {
   "codemirror_mode": {
    "name": "ipython",
    "version": 3
   },
   "file_extension": ".py",
   "mimetype": "text/x-python",
   "name": "python",
   "nbconvert_exporter": "python",
   "pygments_lexer": "ipython3",
   "version": "3.8.5"
  }
 },
 "nbformat": 4,
 "nbformat_minor": 4
}
